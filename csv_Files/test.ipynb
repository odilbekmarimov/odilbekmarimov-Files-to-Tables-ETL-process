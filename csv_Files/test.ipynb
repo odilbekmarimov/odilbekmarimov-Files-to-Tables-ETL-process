{
 "cells": [
  {
   "cell_type": "code",
   "execution_count": 1,
   "metadata": {},
   "outputs": [],
   "source": [
    "import pandas as pd"
   ]
  },
  {
   "cell_type": "code",
   "execution_count": 9,
   "metadata": {},
   "outputs": [
    {
     "data": {
      "text/plain": [
       "CustomerKey        int64\n",
       "FirstName         object\n",
       "MiddleName        object\n",
       "LastName          object\n",
       "NameStyle           bool\n",
       "BirthDate         object\n",
       "MaritalStatus     object\n",
       "Suffix            object\n",
       "Gender            object\n",
       "EmailAddress      object\n",
       "YearlyIncome     float64\n",
       "TotalChildren      int64\n",
       "AddressLine1      object\n",
       "AddressLine2      object\n",
       "Phone             object\n",
       "dtype: object"
      ]
     },
     "execution_count": 9,
     "metadata": {},
     "output_type": "execute_result"
    }
   ],
   "source": [
    "df = pd.read_csv('dim_customer.csv')\n",
    "df.dtypes\n",
    "\n",
    "\n"
   ]
  }
 ],
 "metadata": {
  "kernelspec": {
   "display_name": ".venv",
   "language": "python",
   "name": "python3"
  },
  "language_info": {
   "codemirror_mode": {
    "name": "ipython",
    "version": 3
   },
   "file_extension": ".py",
   "mimetype": "text/x-python",
   "name": "python",
   "nbconvert_exporter": "python",
   "pygments_lexer": "ipython3",
   "version": "3.13.0"
  }
 },
 "nbformat": 4,
 "nbformat_minor": 2
}
